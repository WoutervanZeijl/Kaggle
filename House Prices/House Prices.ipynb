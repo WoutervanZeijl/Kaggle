{
 "cells": [
  {
   "cell_type": "code",
   "execution_count": 5,
   "metadata": {},
   "outputs": [
    {
     "name": "stdout",
     "output_type": "stream",
     "text": [
      "\n",
      "CondaError: Run 'conda init' before 'conda activate'\n",
      "\n"
     ]
    }
   ],
   "source": [
    "#!source ~/miniconda3/bin/activate\n",
    "#!conda activate myenv"
   ]
  },
  {
   "cell_type": "code",
   "execution_count": 10,
   "metadata": {},
   "outputs": [],
   "source": [
    "import numpy as np \n",
    "import pandas as pd\n",
    "\n",
    "import os"
   ]
  },
  {
   "cell_type": "code",
   "execution_count": 7,
   "metadata": {},
   "outputs": [],
   "source": [
    "os.makedirs('data')"
   ]
  },
  {
   "cell_type": "code",
   "execution_count": 8,
   "metadata": {},
   "outputs": [
    {
     "name": "stdout",
     "output_type": "stream",
     "text": [
      "ref                                                                 title                                                 size  lastUpdated          downloadCount  voteCount  usabilityRating  \n",
      "------------------------------------------------------------------  --------------------------------------------------  ------  -------------------  -------------  ---------  ---------------  \n",
      "vikrishnan/boston-house-prices                                      Boston House Prices                                   13KB  2017-08-03 17:06:12         138047        670  0.8235294        \n",
      "syuzai/perth-house-prices                                           Perth House Prices                                     2MB  2021-01-31 05:55:58           4615         44  0.9411765        \n",
      "fedesoriano/the-boston-houseprice-data                              Boston House Prices-Advanced Regression Techniques    12KB  2021-06-01 10:39:10          22295        215  1.0              \n",
      "lespin/house-prices-dataset                                         House Prices dataset                                 199KB  2018-02-18 20:39:04          11544         85  0.5882353        \n",
      "jeremylarcher/american-house-prices-and-demographics-of-top-cities  American House Prices                                666KB  2023-12-09 16:28:27           2478         35  0.9411765        \n",
      "manjitbaishya001/house-prices-2023                                  Pakistan House Prices - 2023                           1MB  2023-12-15 18:57:24           1493         32  1.0              \n",
      "joebeachcapital/house-prices                                        House Prices                                         653KB  2023-08-21 01:27:49           1962         29  1.0              \n",
      "howisusmanali/house-prices-2023-dataset                             House Prices 2023 Dataset                             12MB  2023-07-18 03:07:38           2037         42  1.0              \n",
      "mihirhalai/sydney-house-prices                                      Sydney House Prices                                    2MB  2020-07-10 04:59:55           3273         35  0.5882353        \n",
      "anmolkumar/house-price-prediction-challenge                         House Price Prediction Challenge                       2MB  2020-10-01 19:37:13          19911        220  1.0              \n",
      "carlmcbrideellis/house-prices-advanced-regression-solution-file     House Prices: Advanced Regression 'solution' file      6KB  2020-09-11 15:40:17           1319         45  1.0              \n",
      "rsizem2/house-prices-ames-cleaned-dataset                           House Prices - Processed Data                        377KB  2022-09-25 00:48:08           1187         31  0.8235294        \n",
      "pcbreviglieri/house-prices                                          House Prices                                        1021KB  2020-04-29 14:45:15            604         21  0.9411765        \n",
      "camnugent/california-housing-prices                                 California Housing Prices                            400KB  2017-11-24 03:14:59         160029       1196  0.85294116       \n",
      "jeremylarcher/canadian-house-prices-for-top-cities                  Canadian house prices for top cities                 448KB  2023-10-29 11:56:46           1877         37  0.9411765        \n",
      "vbmokin/house-prices-feature-engineering                            House Prices: Feature Engineering                      8KB  2020-08-13 19:35:17            280         22  0.9411765        \n",
      "dawidcegielski/house-prices-in-poland                               House Prices in Poland                               704KB  2021-03-04 19:20:34           1672         24  0.88235295       \n",
      "tommasoramella/italy-house-prices                                   Italy house prices                                    83MB  2023-07-30 21:30:45            813         20  1.0              \n",
      "gokcegok/house-rent-price-prediction-dataset-for-buca               House Rent Prices of Buca                            163KB  2022-11-20 19:18:33            457         18  1.0              \n",
      "rangalamahesh/house-prices-dataset                                  House Prices Dataset                                 184KB  2024-01-28 19:14:56           1153         27  0.8235294        \n"
     ]
    }
   ],
   "source": [
    "!kaggle datasets list -s 'House Prices'"
   ]
  },
  {
   "cell_type": "code",
   "execution_count": 4,
   "metadata": {},
   "outputs": [
    {
     "name": "stdout",
     "output_type": "stream",
     "text": [
      "Downloading house-prices-advanced-regression-techniques.zip to /home/wouter/Desktop/Kaggle/House Prices\n",
      "100%|█████████████████████████████████████████| 199k/199k [00:00<00:00, 589kB/s]\n",
      "100%|█████████████████████████████████████████| 199k/199k [00:00<00:00, 589kB/s]\n"
     ]
    }
   ],
   "source": [
    "!kaggle competitions download -c house-prices-advanced-regression-techniques"
   ]
  },
  {
   "cell_type": "code",
   "execution_count": 7,
   "metadata": {},
   "outputs": [
    {
     "name": "stdout",
     "output_type": "stream",
     "text": [
      "Archive:  house-prices-advanced-regression-techniques.zip\n",
      "  inflating: data/data_description.txt  \n",
      "  inflating: data/sample_submission.csv  \n",
      "  inflating: data/test.csv           \n",
      "  inflating: data/train.csv          \n"
     ]
    }
   ],
   "source": [
    "!unzip house-prices-advanced-regression-techniques.zip -d data"
   ]
  },
  {
   "cell_type": "code",
   "execution_count": 8,
   "metadata": {},
   "outputs": [],
   "source": [
    "!rm house-prices-advanced-regression-techniques.zip "
   ]
  },
  {
   "cell_type": "code",
   "execution_count": 11,
   "metadata": {},
   "outputs": [],
   "source": [
    "train_data = pd.read_csv('data/train.csv')\n",
    "test_data = pd.read_csv('data/test.csv')"
   ]
  },
  {
   "cell_type": "code",
   "execution_count": 3,
   "metadata": {},
   "outputs": [
    {
     "data": {
      "text/html": [
       "<div>\n",
       "<style scoped>\n",
       "    .dataframe tbody tr th:only-of-type {\n",
       "        vertical-align: middle;\n",
       "    }\n",
       "\n",
       "    .dataframe tbody tr th {\n",
       "        vertical-align: top;\n",
       "    }\n",
       "\n",
       "    .dataframe thead th {\n",
       "        text-align: right;\n",
       "    }\n",
       "</style>\n",
       "<table border=\"1\" class=\"dataframe\">\n",
       "  <thead>\n",
       "    <tr style=\"text-align: right;\">\n",
       "      <th></th>\n",
       "      <th>PassengerId</th>\n",
       "      <th>Survived</th>\n",
       "      <th>Pclass</th>\n",
       "      <th>Name</th>\n",
       "      <th>Sex</th>\n",
       "      <th>Age</th>\n",
       "      <th>SibSp</th>\n",
       "      <th>Parch</th>\n",
       "      <th>Ticket</th>\n",
       "      <th>Fare</th>\n",
       "      <th>Cabin</th>\n",
       "      <th>Embarked</th>\n",
       "    </tr>\n",
       "  </thead>\n",
       "  <tbody>\n",
       "    <tr>\n",
       "      <th>0</th>\n",
       "      <td>1</td>\n",
       "      <td>0</td>\n",
       "      <td>3</td>\n",
       "      <td>Braund, Mr. Owen Harris</td>\n",
       "      <td>male</td>\n",
       "      <td>22.0</td>\n",
       "      <td>1</td>\n",
       "      <td>0</td>\n",
       "      <td>A/5 21171</td>\n",
       "      <td>7.2500</td>\n",
       "      <td>NaN</td>\n",
       "      <td>S</td>\n",
       "    </tr>\n",
       "    <tr>\n",
       "      <th>1</th>\n",
       "      <td>2</td>\n",
       "      <td>1</td>\n",
       "      <td>1</td>\n",
       "      <td>Cumings, Mrs. John Bradley (Florence Briggs Th...</td>\n",
       "      <td>female</td>\n",
       "      <td>38.0</td>\n",
       "      <td>1</td>\n",
       "      <td>0</td>\n",
       "      <td>PC 17599</td>\n",
       "      <td>71.2833</td>\n",
       "      <td>C85</td>\n",
       "      <td>C</td>\n",
       "    </tr>\n",
       "    <tr>\n",
       "      <th>2</th>\n",
       "      <td>3</td>\n",
       "      <td>1</td>\n",
       "      <td>3</td>\n",
       "      <td>Heikkinen, Miss. Laina</td>\n",
       "      <td>female</td>\n",
       "      <td>26.0</td>\n",
       "      <td>0</td>\n",
       "      <td>0</td>\n",
       "      <td>STON/O2. 3101282</td>\n",
       "      <td>7.9250</td>\n",
       "      <td>NaN</td>\n",
       "      <td>S</td>\n",
       "    </tr>\n",
       "    <tr>\n",
       "      <th>3</th>\n",
       "      <td>4</td>\n",
       "      <td>1</td>\n",
       "      <td>1</td>\n",
       "      <td>Futrelle, Mrs. Jacques Heath (Lily May Peel)</td>\n",
       "      <td>female</td>\n",
       "      <td>35.0</td>\n",
       "      <td>1</td>\n",
       "      <td>0</td>\n",
       "      <td>113803</td>\n",
       "      <td>53.1000</td>\n",
       "      <td>C123</td>\n",
       "      <td>S</td>\n",
       "    </tr>\n",
       "    <tr>\n",
       "      <th>4</th>\n",
       "      <td>5</td>\n",
       "      <td>0</td>\n",
       "      <td>3</td>\n",
       "      <td>Allen, Mr. William Henry</td>\n",
       "      <td>male</td>\n",
       "      <td>35.0</td>\n",
       "      <td>0</td>\n",
       "      <td>0</td>\n",
       "      <td>373450</td>\n",
       "      <td>8.0500</td>\n",
       "      <td>NaN</td>\n",
       "      <td>S</td>\n",
       "    </tr>\n",
       "  </tbody>\n",
       "</table>\n",
       "</div>"
      ],
      "text/plain": [
       "   PassengerId  Survived  Pclass  \\\n",
       "0            1         0       3   \n",
       "1            2         1       1   \n",
       "2            3         1       3   \n",
       "3            4         1       1   \n",
       "4            5         0       3   \n",
       "\n",
       "                                                Name     Sex   Age  SibSp  \\\n",
       "0                            Braund, Mr. Owen Harris    male  22.0      1   \n",
       "1  Cumings, Mrs. John Bradley (Florence Briggs Th...  female  38.0      1   \n",
       "2                             Heikkinen, Miss. Laina  female  26.0      0   \n",
       "3       Futrelle, Mrs. Jacques Heath (Lily May Peel)  female  35.0      1   \n",
       "4                           Allen, Mr. William Henry    male  35.0      0   \n",
       "\n",
       "   Parch            Ticket     Fare Cabin Embarked  \n",
       "0      0         A/5 21171   7.2500   NaN        S  \n",
       "1      0          PC 17599  71.2833   C85        C  \n",
       "2      0  STON/O2. 3101282   7.9250   NaN        S  \n",
       "3      0            113803  53.1000  C123        S  \n",
       "4      0            373450   8.0500   NaN        S  "
      ]
     },
     "execution_count": 3,
     "metadata": {},
     "output_type": "execute_result"
    }
   ],
   "source": [
    "train_data.head()"
   ]
  },
  {
   "cell_type": "code",
   "execution_count": null,
   "metadata": {},
   "outputs": [],
   "source": [
    "#aaa"
   ]
  }
 ],
 "metadata": {
  "kernelspec": {
   "display_name": ".venv",
   "language": "python",
   "name": "python3"
  },
  "language_info": {
   "codemirror_mode": {
    "name": "ipython",
    "version": 3
   },
   "file_extension": ".py",
   "mimetype": "text/x-python",
   "name": "python",
   "nbconvert_exporter": "python",
   "pygments_lexer": "ipython3",
   "version": "3.12.2"
  }
 },
 "nbformat": 4,
 "nbformat_minor": 2
}
